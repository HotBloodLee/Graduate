{
 "cells": [
  {
   "cell_type": "markdown",
   "id": "2a7b7026",
   "metadata": {},
   "source": [
    "# NLP层次\n",
    "\n",
    "![image-20221013104422059](img\\image-20221013104422059.png)"
   ]
  },
  {
   "cell_type": "code",
   "execution_count": 4,
   "id": "7ff2d88c",
   "metadata": {
    "scrolled": true
   },
   "outputs": [],
   "source": [
    "from pyhanlp import *"
   ]
  },
  {
   "cell_type": "code",
   "execution_count": 5,
   "id": "0fa36edd",
   "metadata": {},
   "outputs": [
    {
     "name": "stdout",
     "output_type": "stream",
     "text": [
      "[王国维/nr, 和/cc, 服务员/nnt]\n"
     ]
    }
   ],
   "source": [
    "print(HanLP.segment(\"王国维和服务员\"))"
   ]
  },
  {
   "cell_type": "code",
   "execution_count": 6,
   "id": "f7e53a07",
   "metadata": {},
   "outputs": [
    {
     "name": "stdout",
     "output_type": "stream",
     "text": [
      "王国维\tnr\n",
      "和\tcc\n",
      "服务员\tnnt\n"
     ]
    }
   ],
   "source": [
    "# 获取单词和词性\n",
    "for term in HanLP.segment(\"王国维和服务员\"):\n",
    "    print(f'{term.word}\\t{term.nature}')"
   ]
  },
  {
   "cell_type": "code",
   "execution_count": null,
   "id": "d75bc2d7",
   "metadata": {},
   "outputs": [],
   "source": []
  }
 ],
 "metadata": {
  "kernelspec": {
   "display_name": "Python 3 (ipykernel)",
   "language": "python",
   "name": "python3"
  },
  "language_info": {
   "codemirror_mode": {
    "name": "ipython",
    "version": 3
   },
   "file_extension": ".py",
   "mimetype": "text/x-python",
   "name": "python",
   "nbconvert_exporter": "python",
   "pygments_lexer": "ipython3",
   "version": "3.8.13"
  }
 },
 "nbformat": 4,
 "nbformat_minor": 5
}
