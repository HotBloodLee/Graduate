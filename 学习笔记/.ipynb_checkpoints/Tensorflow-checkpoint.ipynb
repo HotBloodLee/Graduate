{
 "cells": [
  {
   "cell_type": "markdown",
   "id": "a94db1fc",
   "metadata": {},
   "source": [
    "# Tensorflow\n",
    "\n",
    "## 1、安装配置\n",
    "\n",
    "- CUDA版本：11.7\n",
    "- cudnn（自动安装cudatoolkit）：\n",
    "    - conda install cudnn=8.4.1.50 -c conda-forge\n",
    "- 安装TensorFlow\n",
    "    - pip install tensorflow"
   ]
  },
  {
   "cell_type": "code",
   "execution_count": null,
   "id": "f0dae58f",
   "metadata": {},
   "outputs": [],
   "source": []
  }
 ],
 "metadata": {
  "kernelspec": {
   "display_name": "Python 3 (ipykernel)",
   "language": "python",
   "name": "python3"
  },
  "language_info": {
   "codemirror_mode": {
    "name": "ipython",
    "version": 3
   },
   "file_extension": ".py",
   "mimetype": "text/x-python",
   "name": "python",
   "nbconvert_exporter": "python",
   "pygments_lexer": "ipython3",
   "version": "3.9.12"
  }
 },
 "nbformat": 4,
 "nbformat_minor": 5
}
